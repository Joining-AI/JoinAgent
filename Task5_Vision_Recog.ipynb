{
 "cells": [
  {
   "cell_type": "markdown",
   "metadata": {},
   "source": [
    "# 初始化"
   ]
  },
  {
   "cell_type": "code",
   "execution_count": 1,
   "metadata": {},
   "outputs": [],
   "source": [
    "import os\n",
    "import time\n",
    "import threading\n",
    "from http.server import HTTPServer, SimpleHTTPRequestHandler\n",
    "from local_packages import *\n",
    "from dotenv import load_dotenv\n",
    "from queue import Queue\n",
    "import concurrent.futures\n",
    "import random\n",
    "import json\n",
    "import openai\n",
    "from concurrent.futures import ThreadPoolExecutor, as_completed\n",
    "\n",
    "# 加载环境变量\n",
    "dotenv_path = os.path.join(os.getcwd(), '.env')\n",
    "model_path = r'D:\\Joining\\Models\\Text2Vec_base_zh'\n",
    "# 设置项目根目录和图片目录\n",
    "project_root = os.path.dirname(dotenv_path)\n",
    "\n",
    "agentopener=AgentOpener(service_type='zhipu',version='glm-4v')\n",
    "service=agentopener.service\n",
    "js=JSProcessor()"
   ]
  },
  {
   "cell_type": "code",
   "execution_count": 14,
   "metadata": {},
   "outputs": [
    {
     "name": "stdout",
     "output_type": "stream",
     "text": [
      "2160 1440\n"
     ]
    }
   ],
   "source": [
    "import pyautogui\n",
    "import time\n",
    "time.sleep(0.8)\n",
    "# 模拟按下Ctrl+Alt+M快捷键\n",
    "pyautogui.hotkey('ctrl', 'alt', 'm')\n",
    "# 等待一段时间，确保快捷键操作已经完成\n",
    "time.sleep(0.6)\n",
    "\n",
    "# 获取屏幕的宽度和高度\n",
    "screenWidth, screenHeight = pyautogui.size()\n",
    "print(screenWidth,screenHeight)\n",
    "# 将鼠标移动到屏幕左上角\n",
    "pyautogui.moveTo(1, 1, duration=0.1)\n",
    "# 按下鼠标左键\n",
    "pyautogui.mouseDown(button='left')\n",
    "\n",
    "# 等待一段时间以模拟正常的拖动操作\n",
    "time.sleep(0.2)\n",
    "\n",
    "try:\n",
    "    pyautogui.mouseDown(button='left')\n",
    "    time.sleep(0.2)\n",
    "    pyautogui.moveTo(screenWidth-3, screenHeight-3, duration=0.2)\n",
    "    pyautogui.mouseUp(button='left')\n",
    "    time.sleep(0.2)\n",
    "    pyautogui.mouseDown(button='left')\n",
    "    time.sleep(0.2)\n",
    "    pyautogui.mouseUp(button='left')\n",
    "    time.sleep(0.2)\n",
    "    pyautogui.mouseDown(button='left')\n",
    "    time.sleep(0.2)\n",
    "    pyautogui.mouseUp(button='left')\n",
    "except Exception as e:\n",
    "    print(f\"发生错误：{e}\")\n",
    "\n"
   ]
  }
 ],
 "metadata": {
  "kernelspec": {
   "display_name": "Python 3",
   "language": "python",
   "name": "python3"
  },
  "language_info": {
   "codemirror_mode": {
    "name": "ipython",
    "version": 3
   },
   "file_extension": ".py",
   "mimetype": "text/x-python",
   "name": "python",
   "nbconvert_exporter": "python",
   "pygments_lexer": "ipython3",
   "version": "3.10.11"
  }
 },
 "nbformat": 4,
 "nbformat_minor": 2
}
