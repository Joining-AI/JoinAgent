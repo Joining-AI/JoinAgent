{
 "cells": [
  {
   "cell_type": "code",
   "execution_count": 1,
   "metadata": {},
   "outputs": [
    {
     "name": "stdout",
     "output_type": "stream",
     "text": [
      "提取的文本内容已保存到 extracted_text.txt 文件中，并且去掉了所有空行。\n"
     ]
    }
   ],
   "source": [
    "import os\n",
    "from pylatexenc.latexwalker import LatexWalker, LatexCharsNode, LatexGroupNode, LatexEnvironmentNode, LatexMacroNode, LatexMathNode, LatexCommentNode\n",
    "\n",
    "tex_or_txt_file_path='your_file.txt'\n",
    "\n",
    "def extract_text_from_latex(node):\n",
    "    \"\"\"\n",
    "    递归提取 LaTeX 节点中的文本内容。\n",
    "    \"\"\"\n",
    "    if node is None:\n",
    "        return ''\n",
    "    \n",
    "    if isinstance(node, LatexCharsNode):\n",
    "        return node.chars\n",
    "    elif isinstance(node, (LatexGroupNode, LatexEnvironmentNode)):\n",
    "        content = ''.join(extract_text_from_latex(subnode) for subnode in node.nodelist)\n",
    "        return content\n",
    "    elif isinstance(node, LatexMacroNode):\n",
    "        return ''\n",
    "    elif isinstance(node, LatexMathNode):\n",
    "        content = ''.join(extract_text_from_latex(subnode) for subnode in node.nodelist)\n",
    "        return content\n",
    "    elif isinstance(node, LatexCommentNode):\n",
    "        return ''\n",
    "    else:\n",
    "        return ''\n",
    "\n",
    "def main():\n",
    "    # 读取指定的 LaTeX 文件内容\n",
    "    file_path = tex_or_txt_file_path\n",
    "    with open(file_path, 'r', encoding='utf-8') as f:\n",
    "        latex_content = f.read()\n",
    "    \n",
    "    # 使用 LatexWalker 解析 LaTeX 文本\n",
    "    walker = LatexWalker(latex_content)\n",
    "    nodes, pos, len_ = walker.get_latex_nodes()\n",
    "\n",
    "    # 提取节点内容\n",
    "    extracted_text = ''.join(extract_text_from_latex(node) for node in nodes)\n",
    "    \n",
    "    # 去掉所有空行\n",
    "    extracted_text = os.linesep.join([s for s in extracted_text.splitlines() if s.strip()])\n",
    "\n",
    "    # 将提取的内容写入 txt 文件\n",
    "    with open('extracted_text.txt', 'w', encoding='utf-8') as file:\n",
    "        file.write(extracted_text)\n",
    "    \n",
    "    print(\"提取的文本内容已保存到 extracted_text.txt 文件中，并且去掉了所有空行。\")\n",
    "\n",
    "if __name__ == \"__main__\":\n",
    "    main()\n"
   ]
  }
 ],
 "metadata": {
  "kernelspec": {
   "display_name": "Python 3",
   "language": "python",
   "name": "python3"
  },
  "language_info": {
   "codemirror_mode": {
    "name": "ipython",
    "version": 3
   },
   "file_extension": ".py",
   "mimetype": "text/x-python",
   "name": "python",
   "nbconvert_exporter": "python",
   "pygments_lexer": "ipython3",
   "version": "3.10.11"
  }
 },
 "nbformat": 4,
 "nbformat_minor": 2
}
