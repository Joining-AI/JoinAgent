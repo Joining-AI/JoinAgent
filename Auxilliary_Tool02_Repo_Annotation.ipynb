{
 "cells": [
  {
   "cell_type": "markdown",
   "metadata": {},
   "source": [
    "# 初始化"
   ]
  },
  {
   "cell_type": "code",
   "execution_count": 1,
   "metadata": {},
   "outputs": [
    {
     "name": "stdout",
     "output_type": "stream",
     "text": [
      "服务初始化成功\n"
     ]
    }
   ],
   "source": [
    "import os\n",
    "import time\n",
    "import threading\n",
    "from http.server import HTTPServer, SimpleHTTPRequestHandler\n",
    "from local_packages import *\n",
    "from dotenv import load_dotenv\n",
    "from queue import Queue\n",
    "import concurrent.futures\n",
    "import random\n",
    "import json\n",
    "import openai\n",
    "from concurrent.futures import ThreadPoolExecutor, as_completed\n",
    "\n",
    "# 加载环境变量\n",
    "dotenv_path = os.path.join(os.getcwd(), '.env')\n",
    "model_path = r'D:\\Joining\\Models\\Text2Vec_base_zh'\n",
    "# 设置项目根目录和图片目录\n",
    "project_root = os.path.dirname(dotenv_path)\n",
    "\n",
    "agentopener=AgentOpener(service_type='qwen')\n",
    "service=agentopener.service\n",
    "processor=JSProcessor()"
   ]
  },
  {
   "cell_type": "code",
   "execution_count": 2,
   "metadata": {},
   "outputs": [
    {
     "name": "stdout",
     "output_type": "stream",
     "text": [
      "Processed 1/5 units (20.00%)\n",
      "Processed 2/5 units (40.00%)\n",
      "Processed 3/5 units (60.00%)\n",
      "Processed 4/5 units (80.00%)\n",
      "Processed 5/5 units (100.00%)\n"
     ]
    }
   ],
   "source": [
    "project_processor = PythonProjectProcessor(processor, service)\n",
    "root_folder = r\"D:\\Joining\\Joining-Agents0710_Light\\temp_python_project\\query\\structured_search\\local_search\"\n",
    "new_root_folder = 'test_python_project'\n",
    "project_processor.process_python_project(root_folder, new_root_folder, threshold=2048, max_workers=50)"
   ]
  }
 ],
 "metadata": {
  "kernelspec": {
   "display_name": "Python 3.10.11 (Jiaoy)",
   "language": "python",
   "name": "myenv"
  },
  "language_info": {
   "codemirror_mode": {
    "name": "ipython",
    "version": 3
   },
   "file_extension": ".py",
   "mimetype": "text/x-python",
   "name": "python",
   "nbconvert_exporter": "python",
   "pygments_lexer": "ipython3",
   "version": "3.10.11"
  }
 },
 "nbformat": 4,
 "nbformat_minor": 2
}
