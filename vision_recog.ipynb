{
 "cells": [
  {
   "cell_type": "markdown",
   "metadata": {},
   "source": [
    "# 初始化"
   ]
  },
  {
   "cell_type": "code",
   "execution_count": null,
   "metadata": {},
   "outputs": [],
   "source": [
    "import os\n",
    "import threading\n",
    "from http.server import HTTPServer, SimpleHTTPRequestHandler\n",
    "from LLM_API import GLMService, SenseService, KimiService\n",
    "from dotenv import load_dotenv\n",
    "\n",
    "# 加载环境变量\n",
    "dotenv_path = os.path.join(os.getcwd(), '.env')\n",
    "\n",
    "# 设置项目根目录和图片目录\n",
    "project_root = os.path.dirname(dotenv_path)\n",
    "\n",
    "service_type = 'zhipu'\n",
    "\n",
    "def initialize_service(service_type):\n",
    "    if service_type in ['zhipu', None]:\n",
    "        version = 'glm-3-turbo'\n",
    "        #'glm-4' 'glm-4v' 'glm-3-turbo'\n",
    "        service = GLMService(version)\n",
    "    elif service_type in ['kimi']:\n",
    "        version = '8k'\n",
    "        #'8k'1M/12￥ '32k'1M/24￥ '128k'1M/60￥\n",
    "        service = KimiService(version)\n",
    "    elif service_type in ['sensetime']:\n",
    "        version = 'SenseChat'\n",
    "        #SenseChat SenseChat-32K SenseChat-128K SenseChat-Turbo SenseChat-FunctionCall\n",
    "        service = SenseService(version=version)\n",
    "    else:\n",
    "        raise ValueError('未知的服务类型')\n",
    "    \n",
    "    return service\n",
    "\n",
    "service = initialize_service(service_type)"
   ]
  },
  {
   "cell_type": "code",
   "execution_count": 10,
   "metadata": {},
   "outputs": [
    {
     "name": "stdout",
     "output_type": "stream",
     "text": [
      "('(1) $S_1$ $<$ $O^{\\\\prime}(xk)$, $dr>=0$, $f(x+d,dr)$ $=$ $f(xk)$ $+$ $O^{\\\\prime}(\\\\frac{d}{r} + \\\\frac{\\\\int_{0}^{1} \\\\mathrm{d}s}{t} )(\\\\frac{\\\\partial f(x)}{\\\\partial x})^{\\\\prime}\\\\cdot\\\\frac{\\\\partial f(x)}{ \\\\partial r}$ $<$ $f^{\\\\prime}(xk)+8$ $(\\\\frac{1+\\\\frac{m}{n} \\\\mathrm{id}x}{\\\\sqrt{1-\\\\frac{1}{m}}\\\\mathrm{d}x)^{\\\\prime}\\\\cdot\\\\frac{\\\\mathrm{d}f(x)}{\\\\mathrm{d}x}>$ $Y<1$\\n\\n(2) $S_2$ $<$ $O^{\\\\prime}(xk)$, $dr>=0$, $f(xk)$ $+$ $O^{\\\\prime}(\\\\frac{d}{r} + \\\\frac{\\\\int_{0}^{1} \\\\mathrm{d}s}{t} )(\\\\frac{\\\\partial f(x)}{\\\\partial x})^{\\\\prime}\\\\cdot\\\\frac{\\\\partial f(x)}{ \\\\partial r}$ $<$ $f^{\\\\prime}(xk)+8$ $(\\\\frac{1+\\\\frac{m}{n} \\\\mathrm{id}x}{\\\\sqrt{1-\\\\frac{1}{m}}\\\\mathrm{d}x)^{\\\\prime}\\\\cdot\\\\frac{\\\\mathrm{d}f(x)}{\\\\mathrm{d}x}>$ $Y<1$', None)\n"
     ]
    },
    {
     "ename": "",
     "evalue": "",
     "output_type": "error",
     "traceback": [
      "\u001b[1;31m在当前单元格或上一个单元格中执行代码时 Kernel 崩溃。\n",
      "\u001b[1;31m请查看单元格中的代码，以确定故障的可能原因。\n",
      "\u001b[1;31m单击<a href='https://aka.ms/vscodeJupyterKernelCrash'>此处</a>了解详细信息。\n",
      "\u001b[1;31m有关更多详细信息，请查看 Jupyter <a href='command:jupyter.viewOutput'>log</a>。"
     ]
    }
   ],
   "source": [
    "img_url = 'https://img2.imgtp.com/2024/03/28/oZ9IbE8x.png'\n",
    "\n",
    "# query = \"给定一张包含课堂笔记的图片，请使用OCR技术识别图片中的全部文字内容。不要省略任何细节，因为这些笔记的完整性对于理解和复习课程内容至关重要。\n",
    "# 读取完成后，请将识别到的文字内容按照以下简单的笔记格式化标准整理输出：- **标题**：如果笔记中包含明显的标题或主题，请将其作为笔记的标题(限定必须用‘title’表示)。\n",
    "# - **日期和地点**：如果可识别，请在标题下方提供笔记的日期和地点（限定必须用‘date_location’表示）。- **主要部分**：提炼主要部分（限定必须用‘main_points’表示）\n",
    "# - **关键点**：以项目符号列出所有关键点（限定必须用‘key_points_details’表示）。- **详细说明**：对每个关键点提供一段简短的说明或解释（限定必须用‘domain_description’表示）。\n",
    "# - **结论**：如果笔记中有总结或结论部分，请在最后列出（限定必须用‘conclusion’表示）。请确保保留原始笔记的所有信息，包括但不限于定义、例子、图表描述等。如果笔记中包含任何图表、\n",
    "# 图形或重要的视觉元素的描述，请尽可能描述这些内容，因为直接的图像识别可能无法准确转换为文本。\"\n",
    "\n",
    "query = \"给定一张包含课堂笔记的图片，知道其原文参杂法语，请使用OCR技术识别图片中的全部文字内容。不要省略任何细节，因为这些笔记的完整性对于理解和复习课程内容至关重要。请以符合逻辑、条理清晰的形式输出原文，如遇到图片、表格等非文本信息，尽量用文字描述出来\"\n",
    "original_str = service.ask_once(query, url=img_url)\n",
    "print(original_str)\n"
   ]
  }
 ],
 "metadata": {
  "kernelspec": {
   "display_name": "Python 3",
   "language": "python",
   "name": "python3"
  },
  "language_info": {
   "codemirror_mode": {
    "name": "ipython",
    "version": 3
   },
   "file_extension": ".py",
   "mimetype": "text/x-python",
   "name": "python",
   "nbconvert_exporter": "python",
   "pygments_lexer": "ipython3",
   "version": "3.10.11"
  }
 },
 "nbformat": 4,
 "nbformat_minor": 2
}
